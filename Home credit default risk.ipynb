{
  "nbformat": 4,
  "nbformat_minor": 0,
  "metadata": {
    "colab": {
      "name": "Final_Project_2.ipynb",
      "provenance": [],
      "collapsed_sections": []
    },
    "kernelspec": {
      "name": "python3",
      "display_name": "Python 3"
    },
    "language_info": {
      "name": "python"
    }
  },
  "cells": [
    {
      "cell_type": "markdown",
      "metadata": {
        "id": "XM7DZ17Bntkp"
      },
      "source": [
        "## Import Library"
      ]
    },
    {
      "cell_type": "code",
      "metadata": {
        "colab": {
          "base_uri": "https://localhost:8080/"
        },
        "id": "YjNSQ8FXczcm",
        "outputId": "38c629a2-d65c-4ec9-8c2a-8d65e86d2832"
      },
      "source": [
        "import pandas as pd, numpy as np\n",
        "import matplotlib.pyplot as plt, seaborn as sns\n",
        "%matplotlib inline\n",
        "\n",
        "from sklearn.pipeline import Pipeline\n",
        "from sklearn.impute import SimpleImputer\n",
        "from sklearn.compose import ColumnTransformer\n",
        "from sklearn.preprocessing import OneHotEncoder\n",
        "from sklearn.preprocessing import StandardScaler\n",
        "\n",
        "from google.colab import drive\n",
        "drive.mount('/content/gdrive')"
      ],
      "execution_count": null,
      "outputs": [
        {
          "output_type": "stream",
          "text": [
            "Mounted at /content/gdrive\n"
          ],
          "name": "stdout"
        }
      ]
    },
    {
      "cell_type": "markdown",
      "metadata": {
        "id": "E81SY8wbnx4L"
      },
      "source": [
        "## Collect data dan inisialisasi data"
      ]
    },
    {
      "cell_type": "code",
      "metadata": {
        "id": "9P0_o75tdWiN"
      },
      "source": [
        "path_1 = 'gdrive/My Drive/Data Science/dataset/application_train.csv'\n",
        "\n",
        "df = pd.read_csv(path_1)"
      ],
      "execution_count": null,
      "outputs": []
    },
    {
      "cell_type": "markdown",
      "metadata": {
        "id": "amguF-XEn978"
      },
      "source": [
        "## Cek 5 data terakhir"
      ]
    },
    {
      "cell_type": "code",
      "metadata": {
        "colab": {
          "base_uri": "https://localhost:8080/",
          "height": 303
        },
        "id": "gSrR65KCdrx6",
        "outputId": "6b0fead6-d7e2-4123-d18a-ac5559437248"
      },
      "source": [
        "## Data Train\n",
        "df.tail()"
      ],
      "execution_count": null,
      "outputs": [
        {
          "output_type": "execute_result",
          "data": {
            "text/html": [
              "<div>\n",
              "<style scoped>\n",
              "    .dataframe tbody tr th:only-of-type {\n",
              "        vertical-align: middle;\n",
              "    }\n",
              "\n",
              "    .dataframe tbody tr th {\n",
              "        vertical-align: top;\n",
              "    }\n",
              "\n",
              "    .dataframe thead th {\n",
              "        text-align: right;\n",
              "    }\n",
              "</style>\n",
              "<table border=\"1\" class=\"dataframe\">\n",
              "  <thead>\n",
              "    <tr style=\"text-align: right;\">\n",
              "      <th></th>\n",
              "      <th>SK_ID_CURR</th>\n",
              "      <th>TARGET</th>\n",
              "      <th>NAME_CONTRACT_TYPE</th>\n",
              "      <th>CODE_GENDER</th>\n",
              "      <th>FLAG_OWN_CAR</th>\n",
              "      <th>FLAG_OWN_REALTY</th>\n",
              "      <th>CNT_CHILDREN</th>\n",
              "      <th>AMT_INCOME_TOTAL</th>\n",
              "      <th>AMT_CREDIT</th>\n",
              "      <th>AMT_ANNUITY</th>\n",
              "      <th>AMT_GOODS_PRICE</th>\n",
              "      <th>NAME_TYPE_SUITE</th>\n",
              "      <th>NAME_INCOME_TYPE</th>\n",
              "      <th>NAME_EDUCATION_TYPE</th>\n",
              "      <th>NAME_FAMILY_STATUS</th>\n",
              "      <th>NAME_HOUSING_TYPE</th>\n",
              "      <th>REGION_POPULATION_RELATIVE</th>\n",
              "      <th>DAYS_BIRTH</th>\n",
              "      <th>DAYS_EMPLOYED</th>\n",
              "      <th>DAYS_REGISTRATION</th>\n",
              "      <th>DAYS_ID_PUBLISH</th>\n",
              "      <th>OWN_CAR_AGE</th>\n",
              "      <th>FLAG_MOBIL</th>\n",
              "      <th>FLAG_EMP_PHONE</th>\n",
              "      <th>FLAG_WORK_PHONE</th>\n",
              "      <th>FLAG_CONT_MOBILE</th>\n",
              "      <th>FLAG_PHONE</th>\n",
              "      <th>FLAG_EMAIL</th>\n",
              "      <th>OCCUPATION_TYPE</th>\n",
              "      <th>CNT_FAM_MEMBERS</th>\n",
              "      <th>REGION_RATING_CLIENT</th>\n",
              "      <th>REGION_RATING_CLIENT_W_CITY</th>\n",
              "      <th>WEEKDAY_APPR_PROCESS_START</th>\n",
              "      <th>HOUR_APPR_PROCESS_START</th>\n",
              "      <th>REG_REGION_NOT_LIVE_REGION</th>\n",
              "      <th>REG_REGION_NOT_WORK_REGION</th>\n",
              "      <th>LIVE_REGION_NOT_WORK_REGION</th>\n",
              "      <th>REG_CITY_NOT_LIVE_CITY</th>\n",
              "      <th>REG_CITY_NOT_WORK_CITY</th>\n",
              "      <th>LIVE_CITY_NOT_WORK_CITY</th>\n",
              "      <th>...</th>\n",
              "      <th>LIVINGAPARTMENTS_MEDI</th>\n",
              "      <th>LIVINGAREA_MEDI</th>\n",
              "      <th>NONLIVINGAPARTMENTS_MEDI</th>\n",
              "      <th>NONLIVINGAREA_MEDI</th>\n",
              "      <th>FONDKAPREMONT_MODE</th>\n",
              "      <th>HOUSETYPE_MODE</th>\n",
              "      <th>TOTALAREA_MODE</th>\n",
              "      <th>WALLSMATERIAL_MODE</th>\n",
              "      <th>EMERGENCYSTATE_MODE</th>\n",
              "      <th>OBS_30_CNT_SOCIAL_CIRCLE</th>\n",
              "      <th>DEF_30_CNT_SOCIAL_CIRCLE</th>\n",
              "      <th>OBS_60_CNT_SOCIAL_CIRCLE</th>\n",
              "      <th>DEF_60_CNT_SOCIAL_CIRCLE</th>\n",
              "      <th>DAYS_LAST_PHONE_CHANGE</th>\n",
              "      <th>FLAG_DOCUMENT_2</th>\n",
              "      <th>FLAG_DOCUMENT_3</th>\n",
              "      <th>FLAG_DOCUMENT_4</th>\n",
              "      <th>FLAG_DOCUMENT_5</th>\n",
              "      <th>FLAG_DOCUMENT_6</th>\n",
              "      <th>FLAG_DOCUMENT_7</th>\n",
              "      <th>FLAG_DOCUMENT_8</th>\n",
              "      <th>FLAG_DOCUMENT_9</th>\n",
              "      <th>FLAG_DOCUMENT_10</th>\n",
              "      <th>FLAG_DOCUMENT_11</th>\n",
              "      <th>FLAG_DOCUMENT_12</th>\n",
              "      <th>FLAG_DOCUMENT_13</th>\n",
              "      <th>FLAG_DOCUMENT_14</th>\n",
              "      <th>FLAG_DOCUMENT_15</th>\n",
              "      <th>FLAG_DOCUMENT_16</th>\n",
              "      <th>FLAG_DOCUMENT_17</th>\n",
              "      <th>FLAG_DOCUMENT_18</th>\n",
              "      <th>FLAG_DOCUMENT_19</th>\n",
              "      <th>FLAG_DOCUMENT_20</th>\n",
              "      <th>FLAG_DOCUMENT_21</th>\n",
              "      <th>AMT_REQ_CREDIT_BUREAU_HOUR</th>\n",
              "      <th>AMT_REQ_CREDIT_BUREAU_DAY</th>\n",
              "      <th>AMT_REQ_CREDIT_BUREAU_WEEK</th>\n",
              "      <th>AMT_REQ_CREDIT_BUREAU_MON</th>\n",
              "      <th>AMT_REQ_CREDIT_BUREAU_QRT</th>\n",
              "      <th>AMT_REQ_CREDIT_BUREAU_YEAR</th>\n",
              "    </tr>\n",
              "  </thead>\n",
              "  <tbody>\n",
              "    <tr>\n",
              "      <th>307506</th>\n",
              "      <td>456251</td>\n",
              "      <td>0</td>\n",
              "      <td>Cash loans</td>\n",
              "      <td>M</td>\n",
              "      <td>N</td>\n",
              "      <td>N</td>\n",
              "      <td>0</td>\n",
              "      <td>157500.0</td>\n",
              "      <td>254700.0</td>\n",
              "      <td>27558.0</td>\n",
              "      <td>225000.0</td>\n",
              "      <td>Unaccompanied</td>\n",
              "      <td>Working</td>\n",
              "      <td>Secondary / secondary special</td>\n",
              "      <td>Separated</td>\n",
              "      <td>With parents</td>\n",
              "      <td>0.032561</td>\n",
              "      <td>-9327</td>\n",
              "      <td>-236</td>\n",
              "      <td>-8456.0</td>\n",
              "      <td>-1982</td>\n",
              "      <td>NaN</td>\n",
              "      <td>1</td>\n",
              "      <td>1</td>\n",
              "      <td>0</td>\n",
              "      <td>1</td>\n",
              "      <td>0</td>\n",
              "      <td>0</td>\n",
              "      <td>Sales staff</td>\n",
              "      <td>1.0</td>\n",
              "      <td>1</td>\n",
              "      <td>1</td>\n",
              "      <td>THURSDAY</td>\n",
              "      <td>15</td>\n",
              "      <td>0</td>\n",
              "      <td>0</td>\n",
              "      <td>0</td>\n",
              "      <td>0</td>\n",
              "      <td>0</td>\n",
              "      <td>0</td>\n",
              "      <td>...</td>\n",
              "      <td>0.1509</td>\n",
              "      <td>0.2001</td>\n",
              "      <td>0.0757</td>\n",
              "      <td>0.1118</td>\n",
              "      <td>reg oper account</td>\n",
              "      <td>block of flats</td>\n",
              "      <td>0.2898</td>\n",
              "      <td>Stone, brick</td>\n",
              "      <td>No</td>\n",
              "      <td>0.0</td>\n",
              "      <td>0.0</td>\n",
              "      <td>0.0</td>\n",
              "      <td>0.0</td>\n",
              "      <td>-273.0</td>\n",
              "      <td>0</td>\n",
              "      <td>0</td>\n",
              "      <td>0</td>\n",
              "      <td>0</td>\n",
              "      <td>0</td>\n",
              "      <td>0</td>\n",
              "      <td>1</td>\n",
              "      <td>0</td>\n",
              "      <td>0</td>\n",
              "      <td>0</td>\n",
              "      <td>0</td>\n",
              "      <td>0</td>\n",
              "      <td>0</td>\n",
              "      <td>0</td>\n",
              "      <td>0</td>\n",
              "      <td>0</td>\n",
              "      <td>0</td>\n",
              "      <td>0</td>\n",
              "      <td>0</td>\n",
              "      <td>0</td>\n",
              "      <td>NaN</td>\n",
              "      <td>NaN</td>\n",
              "      <td>NaN</td>\n",
              "      <td>NaN</td>\n",
              "      <td>NaN</td>\n",
              "      <td>NaN</td>\n",
              "    </tr>\n",
              "    <tr>\n",
              "      <th>307507</th>\n",
              "      <td>456252</td>\n",
              "      <td>0</td>\n",
              "      <td>Cash loans</td>\n",
              "      <td>F</td>\n",
              "      <td>N</td>\n",
              "      <td>Y</td>\n",
              "      <td>0</td>\n",
              "      <td>72000.0</td>\n",
              "      <td>269550.0</td>\n",
              "      <td>12001.5</td>\n",
              "      <td>225000.0</td>\n",
              "      <td>Unaccompanied</td>\n",
              "      <td>Pensioner</td>\n",
              "      <td>Secondary / secondary special</td>\n",
              "      <td>Widow</td>\n",
              "      <td>House / apartment</td>\n",
              "      <td>0.025164</td>\n",
              "      <td>-20775</td>\n",
              "      <td>365243</td>\n",
              "      <td>-4388.0</td>\n",
              "      <td>-4090</td>\n",
              "      <td>NaN</td>\n",
              "      <td>1</td>\n",
              "      <td>0</td>\n",
              "      <td>0</td>\n",
              "      <td>1</td>\n",
              "      <td>1</td>\n",
              "      <td>0</td>\n",
              "      <td>NaN</td>\n",
              "      <td>1.0</td>\n",
              "      <td>2</td>\n",
              "      <td>2</td>\n",
              "      <td>MONDAY</td>\n",
              "      <td>8</td>\n",
              "      <td>0</td>\n",
              "      <td>0</td>\n",
              "      <td>0</td>\n",
              "      <td>0</td>\n",
              "      <td>0</td>\n",
              "      <td>0</td>\n",
              "      <td>...</td>\n",
              "      <td>0.0205</td>\n",
              "      <td>0.0261</td>\n",
              "      <td>0.0000</td>\n",
              "      <td>0.0000</td>\n",
              "      <td>reg oper account</td>\n",
              "      <td>block of flats</td>\n",
              "      <td>0.0214</td>\n",
              "      <td>Stone, brick</td>\n",
              "      <td>No</td>\n",
              "      <td>0.0</td>\n",
              "      <td>0.0</td>\n",
              "      <td>0.0</td>\n",
              "      <td>0.0</td>\n",
              "      <td>0.0</td>\n",
              "      <td>0</td>\n",
              "      <td>1</td>\n",
              "      <td>0</td>\n",
              "      <td>0</td>\n",
              "      <td>0</td>\n",
              "      <td>0</td>\n",
              "      <td>0</td>\n",
              "      <td>0</td>\n",
              "      <td>0</td>\n",
              "      <td>0</td>\n",
              "      <td>0</td>\n",
              "      <td>0</td>\n",
              "      <td>0</td>\n",
              "      <td>0</td>\n",
              "      <td>0</td>\n",
              "      <td>0</td>\n",
              "      <td>0</td>\n",
              "      <td>0</td>\n",
              "      <td>0</td>\n",
              "      <td>0</td>\n",
              "      <td>NaN</td>\n",
              "      <td>NaN</td>\n",
              "      <td>NaN</td>\n",
              "      <td>NaN</td>\n",
              "      <td>NaN</td>\n",
              "      <td>NaN</td>\n",
              "    </tr>\n",
              "    <tr>\n",
              "      <th>307508</th>\n",
              "      <td>456253</td>\n",
              "      <td>0</td>\n",
              "      <td>Cash loans</td>\n",
              "      <td>F</td>\n",
              "      <td>N</td>\n",
              "      <td>Y</td>\n",
              "      <td>0</td>\n",
              "      <td>153000.0</td>\n",
              "      <td>677664.0</td>\n",
              "      <td>29979.0</td>\n",
              "      <td>585000.0</td>\n",
              "      <td>Unaccompanied</td>\n",
              "      <td>Working</td>\n",
              "      <td>Higher education</td>\n",
              "      <td>Separated</td>\n",
              "      <td>House / apartment</td>\n",
              "      <td>0.005002</td>\n",
              "      <td>-14966</td>\n",
              "      <td>-7921</td>\n",
              "      <td>-6737.0</td>\n",
              "      <td>-5150</td>\n",
              "      <td>NaN</td>\n",
              "      <td>1</td>\n",
              "      <td>1</td>\n",
              "      <td>0</td>\n",
              "      <td>1</td>\n",
              "      <td>0</td>\n",
              "      <td>1</td>\n",
              "      <td>Managers</td>\n",
              "      <td>1.0</td>\n",
              "      <td>3</td>\n",
              "      <td>3</td>\n",
              "      <td>THURSDAY</td>\n",
              "      <td>9</td>\n",
              "      <td>0</td>\n",
              "      <td>0</td>\n",
              "      <td>0</td>\n",
              "      <td>0</td>\n",
              "      <td>1</td>\n",
              "      <td>1</td>\n",
              "      <td>...</td>\n",
              "      <td>0.0855</td>\n",
              "      <td>0.9445</td>\n",
              "      <td>0.0000</td>\n",
              "      <td>0.0000</td>\n",
              "      <td>reg oper account</td>\n",
              "      <td>block of flats</td>\n",
              "      <td>0.7970</td>\n",
              "      <td>Panel</td>\n",
              "      <td>No</td>\n",
              "      <td>6.0</td>\n",
              "      <td>0.0</td>\n",
              "      <td>6.0</td>\n",
              "      <td>0.0</td>\n",
              "      <td>-1909.0</td>\n",
              "      <td>0</td>\n",
              "      <td>1</td>\n",
              "      <td>0</td>\n",
              "      <td>0</td>\n",
              "      <td>0</td>\n",
              "      <td>0</td>\n",
              "      <td>0</td>\n",
              "      <td>0</td>\n",
              "      <td>0</td>\n",
              "      <td>0</td>\n",
              "      <td>0</td>\n",
              "      <td>0</td>\n",
              "      <td>0</td>\n",
              "      <td>0</td>\n",
              "      <td>0</td>\n",
              "      <td>0</td>\n",
              "      <td>0</td>\n",
              "      <td>0</td>\n",
              "      <td>0</td>\n",
              "      <td>0</td>\n",
              "      <td>1.0</td>\n",
              "      <td>0.0</td>\n",
              "      <td>0.0</td>\n",
              "      <td>1.0</td>\n",
              "      <td>0.0</td>\n",
              "      <td>1.0</td>\n",
              "    </tr>\n",
              "    <tr>\n",
              "      <th>307509</th>\n",
              "      <td>456254</td>\n",
              "      <td>1</td>\n",
              "      <td>Cash loans</td>\n",
              "      <td>F</td>\n",
              "      <td>N</td>\n",
              "      <td>Y</td>\n",
              "      <td>0</td>\n",
              "      <td>171000.0</td>\n",
              "      <td>370107.0</td>\n",
              "      <td>20205.0</td>\n",
              "      <td>319500.0</td>\n",
              "      <td>Unaccompanied</td>\n",
              "      <td>Commercial associate</td>\n",
              "      <td>Secondary / secondary special</td>\n",
              "      <td>Married</td>\n",
              "      <td>House / apartment</td>\n",
              "      <td>0.005313</td>\n",
              "      <td>-11961</td>\n",
              "      <td>-4786</td>\n",
              "      <td>-2562.0</td>\n",
              "      <td>-931</td>\n",
              "      <td>NaN</td>\n",
              "      <td>1</td>\n",
              "      <td>1</td>\n",
              "      <td>0</td>\n",
              "      <td>1</td>\n",
              "      <td>0</td>\n",
              "      <td>0</td>\n",
              "      <td>Laborers</td>\n",
              "      <td>2.0</td>\n",
              "      <td>2</td>\n",
              "      <td>2</td>\n",
              "      <td>WEDNESDAY</td>\n",
              "      <td>9</td>\n",
              "      <td>0</td>\n",
              "      <td>0</td>\n",
              "      <td>0</td>\n",
              "      <td>1</td>\n",
              "      <td>1</td>\n",
              "      <td>0</td>\n",
              "      <td>...</td>\n",
              "      <td>NaN</td>\n",
              "      <td>0.0062</td>\n",
              "      <td>NaN</td>\n",
              "      <td>NaN</td>\n",
              "      <td>NaN</td>\n",
              "      <td>block of flats</td>\n",
              "      <td>0.0086</td>\n",
              "      <td>Stone, brick</td>\n",
              "      <td>No</td>\n",
              "      <td>0.0</td>\n",
              "      <td>0.0</td>\n",
              "      <td>0.0</td>\n",
              "      <td>0.0</td>\n",
              "      <td>-322.0</td>\n",
              "      <td>0</td>\n",
              "      <td>1</td>\n",
              "      <td>0</td>\n",
              "      <td>0</td>\n",
              "      <td>0</td>\n",
              "      <td>0</td>\n",
              "      <td>0</td>\n",
              "      <td>0</td>\n",
              "      <td>0</td>\n",
              "      <td>0</td>\n",
              "      <td>0</td>\n",
              "      <td>0</td>\n",
              "      <td>0</td>\n",
              "      <td>0</td>\n",
              "      <td>0</td>\n",
              "      <td>0</td>\n",
              "      <td>0</td>\n",
              "      <td>0</td>\n",
              "      <td>0</td>\n",
              "      <td>0</td>\n",
              "      <td>0.0</td>\n",
              "      <td>0.0</td>\n",
              "      <td>0.0</td>\n",
              "      <td>0.0</td>\n",
              "      <td>0.0</td>\n",
              "      <td>0.0</td>\n",
              "    </tr>\n",
              "    <tr>\n",
              "      <th>307510</th>\n",
              "      <td>456255</td>\n",
              "      <td>0</td>\n",
              "      <td>Cash loans</td>\n",
              "      <td>F</td>\n",
              "      <td>N</td>\n",
              "      <td>N</td>\n",
              "      <td>0</td>\n",
              "      <td>157500.0</td>\n",
              "      <td>675000.0</td>\n",
              "      <td>49117.5</td>\n",
              "      <td>675000.0</td>\n",
              "      <td>Unaccompanied</td>\n",
              "      <td>Commercial associate</td>\n",
              "      <td>Higher education</td>\n",
              "      <td>Married</td>\n",
              "      <td>House / apartment</td>\n",
              "      <td>0.046220</td>\n",
              "      <td>-16856</td>\n",
              "      <td>-1262</td>\n",
              "      <td>-5128.0</td>\n",
              "      <td>-410</td>\n",
              "      <td>NaN</td>\n",
              "      <td>1</td>\n",
              "      <td>1</td>\n",
              "      <td>1</td>\n",
              "      <td>1</td>\n",
              "      <td>1</td>\n",
              "      <td>0</td>\n",
              "      <td>Laborers</td>\n",
              "      <td>2.0</td>\n",
              "      <td>1</td>\n",
              "      <td>1</td>\n",
              "      <td>THURSDAY</td>\n",
              "      <td>20</td>\n",
              "      <td>0</td>\n",
              "      <td>0</td>\n",
              "      <td>0</td>\n",
              "      <td>0</td>\n",
              "      <td>1</td>\n",
              "      <td>1</td>\n",
              "      <td>...</td>\n",
              "      <td>NaN</td>\n",
              "      <td>0.0805</td>\n",
              "      <td>NaN</td>\n",
              "      <td>0.0000</td>\n",
              "      <td>NaN</td>\n",
              "      <td>block of flats</td>\n",
              "      <td>0.0718</td>\n",
              "      <td>Panel</td>\n",
              "      <td>No</td>\n",
              "      <td>0.0</td>\n",
              "      <td>0.0</td>\n",
              "      <td>0.0</td>\n",
              "      <td>0.0</td>\n",
              "      <td>-787.0</td>\n",
              "      <td>0</td>\n",
              "      <td>1</td>\n",
              "      <td>0</td>\n",
              "      <td>0</td>\n",
              "      <td>0</td>\n",
              "      <td>0</td>\n",
              "      <td>0</td>\n",
              "      <td>0</td>\n",
              "      <td>0</td>\n",
              "      <td>0</td>\n",
              "      <td>0</td>\n",
              "      <td>0</td>\n",
              "      <td>0</td>\n",
              "      <td>0</td>\n",
              "      <td>0</td>\n",
              "      <td>0</td>\n",
              "      <td>0</td>\n",
              "      <td>0</td>\n",
              "      <td>0</td>\n",
              "      <td>0</td>\n",
              "      <td>0.0</td>\n",
              "      <td>0.0</td>\n",
              "      <td>0.0</td>\n",
              "      <td>2.0</td>\n",
              "      <td>0.0</td>\n",
              "      <td>1.0</td>\n",
              "    </tr>\n",
              "  </tbody>\n",
              "</table>\n",
              "<p>5 rows × 122 columns</p>\n",
              "</div>"
            ],
            "text/plain": [
              "        SK_ID_CURR  ...  AMT_REQ_CREDIT_BUREAU_YEAR\n",
              "307506      456251  ...                         NaN\n",
              "307507      456252  ...                         NaN\n",
              "307508      456253  ...                         1.0\n",
              "307509      456254  ...                         0.0\n",
              "307510      456255  ...                         1.0\n",
              "\n",
              "[5 rows x 122 columns]"
            ]
          },
          "metadata": {
            "tags": []
          },
          "execution_count": 3
        }
      ]
    },
    {
      "cell_type": "markdown",
      "metadata": {
        "id": "NF8jOMxSoc0x"
      },
      "source": [
        "## Cek Missing Value"
      ]
    },
    {
      "cell_type": "code",
      "metadata": {
        "colab": {
          "base_uri": "https://localhost:8080/",
          "height": 331
        },
        "id": "U_iBKG14hFcG",
        "outputId": "7cc12b37-bb62-41c5-f64e-b036e4b4e8ee"
      },
      "source": [
        "total = df.isnull().sum().sort_values(ascending=False)\n",
        "percent_1 = df.isnull().sum()/df.isnull().count()*100\n",
        "percent_2 = (round(percent_1, 1)).sort_values(ascending=False)\n",
        "missing_data = pd.concat([total, percent_2], axis=1, keys=['Total', 'Percent'])\n",
        "missing_data.head(10)"
      ],
      "execution_count": null,
      "outputs": [
        {
          "output_type": "execute_result",
          "data": {
            "text/html": [
              "<div>\n",
              "<style scoped>\n",
              "    .dataframe tbody tr th:only-of-type {\n",
              "        vertical-align: middle;\n",
              "    }\n",
              "\n",
              "    .dataframe tbody tr th {\n",
              "        vertical-align: top;\n",
              "    }\n",
              "\n",
              "    .dataframe thead th {\n",
              "        text-align: right;\n",
              "    }\n",
              "</style>\n",
              "<table border=\"1\" class=\"dataframe\">\n",
              "  <thead>\n",
              "    <tr style=\"text-align: right;\">\n",
              "      <th></th>\n",
              "      <th>Total</th>\n",
              "      <th>Percent</th>\n",
              "    </tr>\n",
              "  </thead>\n",
              "  <tbody>\n",
              "    <tr>\n",
              "      <th>COMMONAREA_MEDI</th>\n",
              "      <td>214865</td>\n",
              "      <td>69.9</td>\n",
              "    </tr>\n",
              "    <tr>\n",
              "      <th>COMMONAREA_AVG</th>\n",
              "      <td>214865</td>\n",
              "      <td>69.9</td>\n",
              "    </tr>\n",
              "    <tr>\n",
              "      <th>COMMONAREA_MODE</th>\n",
              "      <td>214865</td>\n",
              "      <td>69.9</td>\n",
              "    </tr>\n",
              "    <tr>\n",
              "      <th>NONLIVINGAPARTMENTS_MODE</th>\n",
              "      <td>213514</td>\n",
              "      <td>69.4</td>\n",
              "    </tr>\n",
              "    <tr>\n",
              "      <th>NONLIVINGAPARTMENTS_MEDI</th>\n",
              "      <td>213514</td>\n",
              "      <td>69.4</td>\n",
              "    </tr>\n",
              "    <tr>\n",
              "      <th>NONLIVINGAPARTMENTS_AVG</th>\n",
              "      <td>213514</td>\n",
              "      <td>69.4</td>\n",
              "    </tr>\n",
              "    <tr>\n",
              "      <th>FONDKAPREMONT_MODE</th>\n",
              "      <td>210295</td>\n",
              "      <td>68.4</td>\n",
              "    </tr>\n",
              "    <tr>\n",
              "      <th>LIVINGAPARTMENTS_MEDI</th>\n",
              "      <td>210199</td>\n",
              "      <td>68.4</td>\n",
              "    </tr>\n",
              "    <tr>\n",
              "      <th>LIVINGAPARTMENTS_MODE</th>\n",
              "      <td>210199</td>\n",
              "      <td>68.4</td>\n",
              "    </tr>\n",
              "    <tr>\n",
              "      <th>LIVINGAPARTMENTS_AVG</th>\n",
              "      <td>210199</td>\n",
              "      <td>68.4</td>\n",
              "    </tr>\n",
              "  </tbody>\n",
              "</table>\n",
              "</div>"
            ],
            "text/plain": [
              "                           Total  Percent\n",
              "COMMONAREA_MEDI           214865     69.9\n",
              "COMMONAREA_AVG            214865     69.9\n",
              "COMMONAREA_MODE           214865     69.9\n",
              "NONLIVINGAPARTMENTS_MODE  213514     69.4\n",
              "NONLIVINGAPARTMENTS_MEDI  213514     69.4\n",
              "NONLIVINGAPARTMENTS_AVG   213514     69.4\n",
              "FONDKAPREMONT_MODE        210295     68.4\n",
              "LIVINGAPARTMENTS_MEDI     210199     68.4\n",
              "LIVINGAPARTMENTS_MODE     210199     68.4\n",
              "LIVINGAPARTMENTS_AVG      210199     68.4"
            ]
          },
          "metadata": {
            "tags": []
          },
          "execution_count": 4
        }
      ]
    },
    {
      "cell_type": "markdown",
      "metadata": {
        "id": "-IjmP4m-p_7t"
      },
      "source": [
        "## Cek Missing Value yang Di atas 30 percent."
      ]
    },
    {
      "cell_type": "code",
      "metadata": {
        "id": "-FMzYxxDnRjZ",
        "colab": {
          "base_uri": "https://localhost:8080/"
        },
        "outputId": "88956d1e-3d67-4c60-d442-e3e593e85d8b"
      },
      "source": [
        "missingvalue_30 = missing_data.loc[missing_data.Percent >= 30.0, :]\n",
        "print('Total:', len(missingvalue_30))\n",
        "print(missingvalue_30)"
      ],
      "execution_count": null,
      "outputs": [
        {
          "output_type": "stream",
          "text": [
            "Total: 50\n",
            "                               Total  Percent\n",
            "COMMONAREA_MEDI               214865     69.9\n",
            "COMMONAREA_AVG                214865     69.9\n",
            "COMMONAREA_MODE               214865     69.9\n",
            "NONLIVINGAPARTMENTS_MODE      213514     69.4\n",
            "NONLIVINGAPARTMENTS_MEDI      213514     69.4\n",
            "NONLIVINGAPARTMENTS_AVG       213514     69.4\n",
            "FONDKAPREMONT_MODE            210295     68.4\n",
            "LIVINGAPARTMENTS_MEDI         210199     68.4\n",
            "LIVINGAPARTMENTS_MODE         210199     68.4\n",
            "LIVINGAPARTMENTS_AVG          210199     68.4\n",
            "FLOORSMIN_MEDI                208642     67.8\n",
            "FLOORSMIN_MODE                208642     67.8\n",
            "FLOORSMIN_AVG                 208642     67.8\n",
            "YEARS_BUILD_MEDI              204488     66.5\n",
            "YEARS_BUILD_AVG               204488     66.5\n",
            "YEARS_BUILD_MODE              204488     66.5\n",
            "OWN_CAR_AGE                   202929     66.0\n",
            "LANDAREA_MODE                 182590     59.4\n",
            "LANDAREA_AVG                  182590     59.4\n",
            "LANDAREA_MEDI                 182590     59.4\n",
            "BASEMENTAREA_MEDI             179943     58.5\n",
            "BASEMENTAREA_AVG              179943     58.5\n",
            "BASEMENTAREA_MODE             179943     58.5\n",
            "EXT_SOURCE_1                  173378     56.4\n",
            "NONLIVINGAREA_MEDI            169682     55.2\n",
            "NONLIVINGAREA_AVG             169682     55.2\n",
            "NONLIVINGAREA_MODE            169682     55.2\n",
            "ELEVATORS_MODE                163891     53.3\n",
            "ELEVATORS_AVG                 163891     53.3\n",
            "ELEVATORS_MEDI                163891     53.3\n",
            "WALLSMATERIAL_MODE            156341     50.8\n",
            "APARTMENTS_MODE               156061     50.7\n",
            "APARTMENTS_AVG                156061     50.7\n",
            "APARTMENTS_MEDI               156061     50.7\n",
            "ENTRANCES_MEDI                154828     50.3\n",
            "ENTRANCES_MODE                154828     50.3\n",
            "ENTRANCES_AVG                 154828     50.3\n",
            "LIVINGAREA_MEDI               154350     50.2\n",
            "LIVINGAREA_MODE               154350     50.2\n",
            "LIVINGAREA_AVG                154350     50.2\n",
            "HOUSETYPE_MODE                154297     50.2\n",
            "FLOORSMAX_MODE                153020     49.8\n",
            "FLOORSMAX_MEDI                153020     49.8\n",
            "FLOORSMAX_AVG                 153020     49.8\n",
            "YEARS_BEGINEXPLUATATION_MEDI  150007     48.8\n",
            "YEARS_BEGINEXPLUATATION_AVG   150007     48.8\n",
            "YEARS_BEGINEXPLUATATION_MODE  150007     48.8\n",
            "TOTALAREA_MODE                148431     48.3\n",
            "EMERGENCYSTATE_MODE           145755     47.4\n",
            "OCCUPATION_TYPE                96391     31.3\n"
          ],
          "name": "stdout"
        }
      ]
    },
    {
      "cell_type": "markdown",
      "metadata": {
        "id": "d5RxRP5cszGc"
      },
      "source": [
        "## Cek Missing Value yang di bawah 30 percent."
      ]
    },
    {
      "cell_type": "code",
      "metadata": {
        "colab": {
          "base_uri": "https://localhost:8080/"
        },
        "id": "Qd2V0SnApLvu",
        "outputId": "d61d655a-4d88-4535-94d7-300ef137a922"
      },
      "source": [
        "missingvalue_under30 = missing_data.loc[missing_data.Percent <= 30.0, :]\n",
        "print('Total:', len(missingvalue_under30))\n",
        "print(missingvalue_under30)"
      ],
      "execution_count": null,
      "outputs": [
        {
          "output_type": "stream",
          "text": [
            "Total: 72\n",
            "                             Total  Percent\n",
            "EXT_SOURCE_3                 60965     19.8\n",
            "AMT_REQ_CREDIT_BUREAU_QRT    41519     13.5\n",
            "AMT_REQ_CREDIT_BUREAU_YEAR   41519     13.5\n",
            "AMT_REQ_CREDIT_BUREAU_WEEK   41519     13.5\n",
            "AMT_REQ_CREDIT_BUREAU_MON    41519     13.5\n",
            "...                            ...      ...\n",
            "REG_CITY_NOT_LIVE_CITY           0      0.0\n",
            "LIVE_REGION_NOT_WORK_REGION      0      0.0\n",
            "REG_REGION_NOT_WORK_REGION       0      0.0\n",
            "HOUR_APPR_PROCESS_START          0      0.0\n",
            "SK_ID_CURR                       0      0.0\n",
            "\n",
            "[72 rows x 2 columns]\n"
          ],
          "name": "stdout"
        }
      ]
    },
    {
      "cell_type": "markdown",
      "metadata": {
        "id": "wXWORw2KwzTC"
      },
      "source": [
        "## Menghapus columns yang 30% data kosong"
      ]
    },
    {
      "cell_type": "code",
      "metadata": {
        "id": "2Rm0TDQmwVOO"
      },
      "source": [
        "droptrain_datamiss = df.drop(labels= ['COMMONAREA_MEDI','COMMONAREA_AVG','COMMONAREA_MODE','NONLIVINGAPARTMENTS_MODE','NONLIVINGAPARTMENTS_MEDI'\n",
        "                                            ,'NONLIVINGAPARTMENTS_AVG','FONDKAPREMONT_MODE','LIVINGAPARTMENTS_MEDI','LIVINGAPARTMENTS_MODE','LIVINGAPARTMENTS_AVG'\n",
        "                                            ,'FLOORSMIN_MEDI','FLOORSMIN_MODE','FLOORSMIN_AVG','YEARS_BUILD_MEDI','YEARS_BUILD_AVG','YEARS_BUILD_MODE'\n",
        "                                            ,'OWN_CAR_AGE','LANDAREA_MODE','LANDAREA_AVG','LANDAREA_MEDI','BASEMENTAREA_MEDI','BASEMENTAREA_AVG','BASEMENTAREA_MODE'\n",
        "                                            ,'EXT_SOURCE_1','NONLIVINGAREA_MEDI','NONLIVINGAREA_AVG','NONLIVINGAREA_MODE','ELEVATORS_MODE','ELEVATORS_AVG'\n",
        "                                            ,'ELEVATORS_MEDI','WALLSMATERIAL_MODE','APARTMENTS_MODE','APARTMENTS_AVG','APARTMENTS_MEDI','ENTRANCES_MEDI'\n",
        "                                            ,'ENTRANCES_MODE','ENTRANCES_AVG','LIVINGAREA_MEDI','LIVINGAREA_MODE','LIVINGAREA_AVG','HOUSETYPE_MODE'\n",
        "                                            ,'FLOORSMAX_MODE','FLOORSMAX_MEDI','FLOORSMAX_AVG','YEARS_BEGINEXPLUATATION_MEDI','YEARS_BEGINEXPLUATATION_AVG'\n",
        "                                            ,'YEARS_BEGINEXPLUATATION_MODE','TOTALAREA_MODE','EMERGENCYSTATE_MODE','OCCUPATION_TYPE'\n",
        "                                            ,'ORGANIZATION_TYPE'], axis=1, inplace = True)"
      ],
      "execution_count": null,
      "outputs": []
    },
    {
      "cell_type": "markdown",
      "metadata": {
        "id": "mD9oGpRD1k3E"
      },
      "source": [
        "## Cek Total data yang ada"
      ]
    },
    {
      "cell_type": "code",
      "metadata": {
        "colab": {
          "base_uri": "https://localhost:8080/"
        },
        "id": "cgkEmyL006z1",
        "outputId": "347d2941-742a-4df0-9b3a-55e303b35b5d"
      },
      "source": [
        "## data train\n",
        "df.shape"
      ],
      "execution_count": null,
      "outputs": [
        {
          "output_type": "execute_result",
          "data": {
            "text/plain": [
              "(307511, 71)"
            ]
          },
          "metadata": {
            "tags": []
          },
          "execution_count": 8
        }
      ]
    },
    {
      "cell_type": "markdown",
      "metadata": {
        "id": "oG5S3THl3U5O"
      },
      "source": [
        "## Feature Engineering"
      ]
    },
    {
      "cell_type": "code",
      "metadata": {
        "id": "TKU7Z0HG1Rn8"
      },
      "source": [
        "## Merubah menjadi nilai absolute data train\n",
        "df['DAYS_BIRTH'] = abs(df['DAYS_BIRTH'])\n",
        "df['DAYS_EMPLOYED'] = abs(df['DAYS_EMPLOYED'])\n",
        "df['DAYS_REGISTRATION'] = abs(df['DAYS_REGISTRATION'])\n",
        "df['DAYS_ID_PUBLISH'] = abs(df['DAYS_ID_PUBLISH'])\n",
        "df['DAYS_LAST_PHONE_CHANGE'] = abs(df['DAYS_LAST_PHONE_CHANGE'])"
      ],
      "execution_count": null,
      "outputs": []
    },
    {
      "cell_type": "code",
      "metadata": {
        "colab": {
          "base_uri": "https://localhost:8080/"
        },
        "id": "eurZp5Ti7WuK",
        "outputId": "12136631-245b-4e1d-bbff-f126b1159ab5"
      },
      "source": [
        "## Cek Columns Category\n",
        "df.select_dtypes('object').apply(pd.Series.nunique, axis = 0)"
      ],
      "execution_count": null,
      "outputs": [
        {
          "output_type": "execute_result",
          "data": {
            "text/plain": [
              "NAME_CONTRACT_TYPE            2\n",
              "CODE_GENDER                   3\n",
              "FLAG_OWN_CAR                  2\n",
              "FLAG_OWN_REALTY               2\n",
              "NAME_TYPE_SUITE               7\n",
              "NAME_INCOME_TYPE              8\n",
              "NAME_EDUCATION_TYPE           5\n",
              "NAME_FAMILY_STATUS            6\n",
              "NAME_HOUSING_TYPE             6\n",
              "WEEKDAY_APPR_PROCESS_START    7\n",
              "dtype: int64"
            ]
          },
          "metadata": {
            "tags": []
          },
          "execution_count": 10
        }
      ]
    },
    {
      "cell_type": "code",
      "metadata": {
        "id": "P_L6ArQ17aeT"
      },
      "source": [
        "## Hapus Target\n",
        "train_drop = df.drop(labels=['SK_ID_CURR','TARGET'], axis=1)"
      ],
      "execution_count": null,
      "outputs": []
    },
    {
      "cell_type": "code",
      "metadata": {
        "id": "6GQuCuad8MDp"
      },
      "source": [
        "## Pemisahan colum Category dan Numeric\n",
        "cat_features = ['NAME_CONTRACT_TYPE','CODE_GENDER','FLAG_OWN_CAR','FLAG_OWN_REALTY','NAME_TYPE_SUITE'\n",
        "                ,'NAME_INCOME_TYPE','NAME_EDUCATION_TYPE','NAME_FAMILY_STATUS','NAME_HOUSING_TYPE'\n",
        "                ,'WEEKDAY_APPR_PROCESS_START']\n",
        "num_features = [i for i in train_drop.columns if i not in cat_features]\n",
        "features = cat_features + num_features"
      ],
      "execution_count": null,
      "outputs": []
    },
    {
      "cell_type": "code",
      "metadata": {
        "id": "1S-fIqxE_DOG"
      },
      "source": [
        "## Untuk melengkapi nilai kosong dengan nilai rata2 dan normalisasi.\n",
        "num_transformer = Pipeline(steps = [('impeter', SimpleImputer(strategy='mean'))\n",
        "                                   ,('scaler', StandardScaler())])"
      ],
      "execution_count": null,
      "outputs": []
    },
    {
      "cell_type": "code",
      "metadata": {
        "id": "bn8x5IxUKF_Z"
      },
      "source": [
        "## Untuk melengkapi nilai kosong dengan nilai konstan dan merubah huruf dengan OneHotEncoding.\n",
        "cat_transformer = Pipeline(steps = [('imputer', SimpleImputer(strategy='constant', fill_value='missing'))\n",
        "                                   ,('onehot', OneHotEncoder(handle_unknown='ignore'))\n",
        "                                   ])"
      ],
      "execution_count": null,
      "outputs": []
    },
    {
      "cell_type": "code",
      "metadata": {
        "id": "3vDLcnb-KKek"
      },
      "source": [
        "## Melakukan ColumnTransformer untuk membentuk fitur tunggal\n",
        "preprocessor = ColumnTransformer(transformers = [('num', num_transformer, num_features)\n",
        "                                                ,('cat', cat_transformer, cat_features)])"
      ],
      "execution_count": null,
      "outputs": []
    },
    {
      "cell_type": "markdown",
      "metadata": {
        "id": "azstgrmynzKe"
      },
      "source": [
        "## Train test split"
      ]
    },
    {
      "cell_type": "code",
      "metadata": {
        "id": "6YaFQOuTKNid"
      },
      "source": [
        "## Melakukan traning dan membagi data menjadi label dan tanget.\n",
        "preprocessor.fit(df[features])\n",
        "X = preprocessor.transform(df[features])\n",
        "y = df.TARGET.values"
      ],
      "execution_count": null,
      "outputs": []
    },
    {
      "cell_type": "code",
      "metadata": {
        "id": "p0O0ZwpXpCNf"
      },
      "source": [
        "## Melakukan train test split dengan membagi data test 30.\n",
        "from sklearn.model_selection import train_test_split\n",
        "X_train,X_test,y_train,y_test =  train_test_split(X, y, test_size = 0.30,random_state = 100)"
      ],
      "execution_count": null,
      "outputs": []
    },
    {
      "cell_type": "code",
      "metadata": {
        "colab": {
          "base_uri": "https://localhost:8080/"
        },
        "id": "MH4h7g8Oay1B",
        "outputId": "1460b01d-9208-4293-ef12-ee32dd3738de"
      },
      "source": [
        "## Cek data\n",
        "print('X_train shape:', X_train.shape)\n",
        "print('X_test shape:', X_test.shape)\n",
        "print('y_train shape:', y_train.shape)\n",
        "print('y_test shape:', y_test.shape)"
      ],
      "execution_count": null,
      "outputs": [
        {
          "output_type": "stream",
          "text": [
            "X_train shape: (215257, 108)\n",
            "X_test shape: (92254, 108)\n",
            "y_train shape: (215257,)\n",
            "y_test shape: (92254,)\n"
          ],
          "name": "stdout"
        }
      ]
    },
    {
      "cell_type": "markdown",
      "metadata": {
        "id": "xe-QJTdI0kBY"
      },
      "source": [
        "## Imbalanced Dataset"
      ]
    },
    {
      "cell_type": "code",
      "metadata": {
        "colab": {
          "base_uri": "https://localhost:8080/"
        },
        "id": "r_zVVlq_2a-w",
        "outputId": "90ec9080-d033-45a4-abb2-97a7eb333dbb"
      },
      "source": [
        "from imblearn.over_sampling import SMOTE\n",
        "sm = SMOTE()\n",
        "X_train_sm,y_train_sm = sm.fit_sample(X_train, y_train)"
      ],
      "execution_count": null,
      "outputs": [
        {
          "output_type": "stream",
          "text": [
            "/usr/local/lib/python3.7/dist-packages/sklearn/externals/six.py:31: FutureWarning: The module is deprecated in version 0.21 and will be removed in version 0.23 since we've dropped support for Python 2.7. Please rely on the official version of six (https://pypi.org/project/six/).\n",
            "  \"(https://pypi.org/project/six/).\", FutureWarning)\n",
            "/usr/local/lib/python3.7/dist-packages/sklearn/utils/deprecation.py:144: FutureWarning: The sklearn.neighbors.base module is  deprecated in version 0.22 and will be removed in version 0.24. The corresponding classes / functions should instead be imported from sklearn.neighbors. Anything that cannot be imported from sklearn.neighbors is now part of the private API.\n",
            "  warnings.warn(message, FutureWarning)\n",
            "/usr/local/lib/python3.7/dist-packages/sklearn/utils/deprecation.py:87: FutureWarning: Function safe_indexing is deprecated; safe_indexing is deprecated in version 0.22 and will be removed in version 0.24.\n",
            "  warnings.warn(msg, category=FutureWarning)\n"
          ],
          "name": "stderr"
        }
      ]
    },
    {
      "cell_type": "markdown",
      "metadata": {
        "id": "2l8vZuuqK58E"
      },
      "source": [
        "## Menggunakan Model DecisionTree"
      ]
    },
    {
      "cell_type": "code",
      "metadata": {
        "colab": {
          "base_uri": "https://localhost:8080/"
        },
        "id": "EFQ4kQCGKqRH",
        "outputId": "aee4394e-b985-43e2-cb42-3243215d9024"
      },
      "source": [
        "from sklearn.tree import DecisionTreeClassifier\n",
        "clf = DecisionTreeClassifier(criterion = 'entropy', random_state = 100, max_depth=3, min_samples_leaf= 5)\n",
        "clf.fit(X_train_sm, y_train_sm)"
      ],
      "execution_count": null,
      "outputs": [
        {
          "output_type": "execute_result",
          "data": {
            "text/plain": [
              "DecisionTreeClassifier(ccp_alpha=0.0, class_weight=None, criterion='entropy',\n",
              "                       max_depth=3, max_features=None, max_leaf_nodes=None,\n",
              "                       min_impurity_decrease=0.0, min_impurity_split=None,\n",
              "                       min_samples_leaf=5, min_samples_split=2,\n",
              "                       min_weight_fraction_leaf=0.0, presort='deprecated',\n",
              "                       random_state=100, splitter='best')"
            ]
          },
          "metadata": {
            "tags": []
          },
          "execution_count": 20
        }
      ]
    },
    {
      "cell_type": "code",
      "metadata": {
        "colab": {
          "base_uri": "https://localhost:8080/"
        },
        "id": "xYADELHiK0z2",
        "outputId": "b736f739-eed9-4bf3-f328-42bfba081f8a"
      },
      "source": [
        "## Accuracy Score Test\n",
        "from sklearn.metrics import accuracy_score\n",
        "y_test_sm_pred = clf.predict(X_test)\n",
        "accuracy_score(y_test, y_test_sm_pred)"
      ],
      "execution_count": null,
      "outputs": [
        {
          "output_type": "execute_result",
          "data": {
            "text/plain": [
              "0.735577861122553"
            ]
          },
          "metadata": {
            "tags": []
          },
          "execution_count": 21
        }
      ]
    },
    {
      "cell_type": "code",
      "metadata": {
        "colab": {
          "base_uri": "https://localhost:8080/"
        },
        "id": "wSCbcHuuryEo",
        "outputId": "ef8b0251-1710-436a-b843-69a5b0d3b023"
      },
      "source": [
        "## Accuracy Score Train\n",
        "y_train_sm_pred = clf.predict(X_train_sm)\n",
        "accuracy_score(y_train_sm, y_train_sm_pred)"
      ],
      "execution_count": null,
      "outputs": [
        {
          "output_type": "execute_result",
          "data": {
            "text/plain": [
              "0.7004011255765549"
            ]
          },
          "metadata": {
            "tags": []
          },
          "execution_count": 22
        }
      ]
    },
    {
      "cell_type": "code",
      "metadata": {
        "colab": {
          "base_uri": "https://localhost:8080/"
        },
        "id": "Nmx8LasDLJE3",
        "outputId": "ad56dbd5-b51f-4321-e375-3e89108fbc74"
      },
      "source": [
        "## Cross validasi Score\n",
        "from sklearn.model_selection import cross_val_score\n",
        "print(cross_val_score(clf, X_train_sm, y_train_sm, cv=3))"
      ],
      "execution_count": null,
      "outputs": [
        {
          "output_type": "stream",
          "text": [
            "[0.68051409 0.70915112 0.71150786]\n"
          ],
          "name": "stdout"
        }
      ]
    },
    {
      "cell_type": "code",
      "metadata": {
        "id": "f1jag_1f4LNA",
        "colab": {
          "base_uri": "https://localhost:8080/"
        },
        "outputId": "e61b9def-2620-4e24-c47b-e59b860424b2"
      },
      "source": [
        "## Cross validasi Predick\n",
        "from sklearn.model_selection import cross_val_predict\n",
        "from sklearn.metrics import confusion_matrix\n",
        "predictions = cross_val_predict(clf, X_train_sm, y_train_sm, cv=3)\n",
        "confusion_matrix(y_train_sm, predictions)"
      ],
      "execution_count": null,
      "outputs": [
        {
          "output_type": "execute_result",
          "data": {
            "text/plain": [
              "array([[150616,  47327],\n",
              "       [ 71284, 126659]])"
            ]
          },
          "metadata": {
            "tags": []
          },
          "execution_count": 24
        }
      ]
    },
    {
      "cell_type": "code",
      "metadata": {
        "id": "AJhLSoHC4N-d",
        "colab": {
          "base_uri": "https://localhost:8080/"
        },
        "outputId": "764bd949-8e8c-47c1-9c25-58e67481886e"
      },
      "source": [
        "## Score Precision dan Recall\n",
        "from sklearn.metrics import precision_score, recall_score\n",
        "print(\"Precision:\", precision_score(y_train_sm, predictions))\n",
        "print(\"Recall:\",recall_score(y_train_sm, predictions))"
      ],
      "execution_count": null,
      "outputs": [
        {
          "output_type": "stream",
          "text": [
            "Precision: 0.7279838607704068\n",
            "Recall: 0.6398761259554518\n"
          ],
          "name": "stdout"
        }
      ]
    },
    {
      "cell_type": "code",
      "metadata": {
        "id": "Y5sjF8gd1jNj"
      },
      "source": [
        "## mendapatkan kemungkinan prediksi\n",
        "y_scores_clf = clf.predict_proba(X_train_sm)\n",
        "y_scores_clf = y_scores_clf[:,1]"
      ],
      "execution_count": null,
      "outputs": []
    },
    {
      "cell_type": "code",
      "metadata": {
        "colab": {
          "base_uri": "https://localhost:8080/"
        },
        "id": "dg60viTy17eK",
        "outputId": "4e788fe8-8b0b-466e-9e11-9c6295fbf665"
      },
      "source": [
        "## cek ROC_AUC Score\n",
        "from sklearn.metrics import roc_auc_score\n",
        "r_a_score = roc_auc_score(y_train_sm, y_scores_clf)\n",
        "print(\"ROC-AUC-Score:\", r_a_score)"
      ],
      "execution_count": null,
      "outputs": [
        {
          "output_type": "stream",
          "text": [
            "ROC-AUC-Score: 0.7537281827027115\n"
          ],
          "name": "stdout"
        }
      ]
    },
    {
      "cell_type": "code",
      "metadata": {
        "colab": {
          "base_uri": "https://localhost:8080/",
          "height": 451
        },
        "id": "3lLwermo2O7r",
        "outputId": "a81eda8a-9bff-4fbf-af6c-e5d2bbc47e8f"
      },
      "source": [
        "## ROC AUC Curve\n",
        "from sklearn.metrics import roc_curve\n",
        "# menghitung rasio positif benar dan rasio positif salah\n",
        "false_positive_rate, true_positive_rate, thresholds = roc_curve(y_train_sm, y_scores_clf)\n",
        "# Membuat Plotting\n",
        "def plot_roc_curve(false_positive_rate, true_positive_rate, label=None):\n",
        "    plt.plot(false_positive_rate, true_positive_rate, linewidth=2, label=label)\n",
        "    plt.plot([0, 1], [0, 1], 'r', linewidth=4)\n",
        "    plt.axis([0, 1, 0, 1])\n",
        "    plt.xlabel('False Positive Rate (FPR)', fontsize=16)\n",
        "    plt.ylabel('True Positive Rate (TPR)', fontsize=16)\n",
        "\n",
        "plt.figure(figsize=(14, 7))\n",
        "plot_roc_curve(false_positive_rate, true_positive_rate)\n",
        "plt.show()"
      ],
      "execution_count": null,
      "outputs": [
        {
          "output_type": "display_data",
          "data": {
            "image/png": "[encoded data removed]",
            "text/plain": [
              "<Figure size 1008x504 with 1 Axes>"
            ]
          },
          "metadata": {
            "tags": [],
            "needs_background": "light"
          }
        }
      ]
    },
    {
      "cell_type": "markdown",
      "metadata": {
        "id": "d_mlZKHpjSsV"
      },
      "source": [
        "## Menggunakan Model Random Forest"
      ]
    },
    {
      "cell_type": "code",
      "metadata": {
        "colab": {
          "base_uri": "https://localhost:8080/"
        },
        "id": "Yu-HPSC_jaRi",
        "outputId": "717bc973-6dd7-49dc-d676-62918d16afb7"
      },
      "source": [
        "from sklearn.ensemble import RandomForestClassifier\n",
        "rf= RandomForestClassifier(random_state=100)\n",
        "rf.fit(X_train_sm,y_train_sm)"
      ],
      "execution_count": null,
      "outputs": [
        {
          "output_type": "execute_result",
          "data": {
            "text/plain": [
              "RandomForestClassifier(bootstrap=True, ccp_alpha=0.0, class_weight=None,\n",
              "                       criterion='gini', max_depth=None, max_features='auto',\n",
              "                       max_leaf_nodes=None, max_samples=None,\n",
              "                       min_impurity_decrease=0.0, min_impurity_split=None,\n",
              "                       min_samples_leaf=1, min_samples_split=2,\n",
              "                       min_weight_fraction_leaf=0.0, n_estimators=100,\n",
              "                       n_jobs=None, oob_score=False, random_state=100,\n",
              "                       verbose=0, warm_start=False)"
            ]
          },
          "metadata": {
            "tags": []
          },
          "execution_count": 29
        }
      ]
    },
    {
      "cell_type": "code",
      "metadata": {
        "colab": {
          "base_uri": "https://localhost:8080/"
        },
        "id": "5sM2m4ivj6mH",
        "outputId": "eaa94e50-838a-4efe-f2dd-685918909a76"
      },
      "source": [
        "## Accuracy Score Test\n",
        "y_test_sm_pred = rf.predict(X_test)\n",
        "accuracy_score(y_test, y_test_sm_pred)"
      ],
      "execution_count": null,
      "outputs": [
        {
          "output_type": "execute_result",
          "data": {
            "text/plain": [
              "0.9184967589481214"
            ]
          },
          "metadata": {
            "tags": []
          },
          "execution_count": 30
        }
      ]
    },
    {
      "cell_type": "code",
      "metadata": {
        "colab": {
          "base_uri": "https://localhost:8080/"
        },
        "id": "30CosVGmt79n",
        "outputId": "d8a8fb24-5d1a-4c90-d1f9-9f374b2cb8e7"
      },
      "source": [
        "## Accuracy Score Train\n",
        "y_train_sm_pred = rf.predict(X_train_sm)\n",
        "accuracy_score(y_train_sm, y_train_sm_pred)"
      ],
      "execution_count": null,
      "outputs": [
        {
          "output_type": "execute_result",
          "data": {
            "text/plain": [
              "0.9999949480405975"
            ]
          },
          "metadata": {
            "tags": []
          },
          "execution_count": 31
        }
      ]
    },
    {
      "cell_type": "code",
      "metadata": {
        "colab": {
          "base_uri": "https://localhost:8080/"
        },
        "id": "Isbm57w1MZP2",
        "outputId": "948df797-815c-439e-b1b8-9cc514aa7140"
      },
      "source": [
        "## Cross validasi Score\n",
        "print(cross_val_score(rf, X_train_sm, y_train_sm, cv=3))"
      ],
      "execution_count": null,
      "outputs": [
        {
          "output_type": "stream",
          "text": [
            "[0.86837878 0.99725679 0.99732499]\n"
          ],
          "name": "stdout"
        }
      ]
    },
    {
      "cell_type": "code",
      "metadata": {
        "colab": {
          "base_uri": "https://localhost:8080/"
        },
        "id": "m4NTjUxtMgYT",
        "outputId": "2d95ad27-f2ce-4d89-dad5-53bbe92f65d8"
      },
      "source": [
        "## Cross validasi Predick\n",
        "predictions = cross_val_predict(rf, X_train_sm, y_train_sm, cv=3)\n",
        "confusion_matrix(y_train_sm, predictions)"
      ],
      "execution_count": null,
      "outputs": [
        {
          "output_type": "execute_result",
          "data": {
            "text/plain": [
              "array([[197535,    408],\n",
              "       [ 17676, 180267]])"
            ]
          },
          "metadata": {
            "tags": []
          },
          "execution_count": 33
        }
      ]
    },
    {
      "cell_type": "code",
      "metadata": {
        "colab": {
          "base_uri": "https://localhost:8080/"
        },
        "id": "jeELnOJ2MoHy",
        "outputId": "17783f5a-b57a-4373-cd55-de227e149820"
      },
      "source": [
        "## Score Precision dan Recall\n",
        "print(\"Precision:\", precision_score(y_train_sm, predictions))\n",
        "print(\"Recall:\",recall_score(y_train_sm, predictions))"
      ],
      "execution_count": null,
      "outputs": [
        {
          "output_type": "stream",
          "text": [
            "Precision: 0.997741801577418\n",
            "Recall: 0.9107015656022188\n"
          ],
          "name": "stdout"
        }
      ]
    },
    {
      "cell_type": "code",
      "metadata": {
        "id": "Yc5F2o750R-E"
      },
      "source": [
        "## mendapatkan kemungkinan prediksi\n",
        "y_scores_rf = rf.predict_proba(X_train_sm)\n",
        "y_scores_rf = y_scores_rf[:,1]"
      ],
      "execution_count": null,
      "outputs": []
    },
    {
      "cell_type": "code",
      "metadata": {
        "colab": {
          "base_uri": "https://localhost:8080/"
        },
        "id": "cfUxoqZ70FVu",
        "outputId": "bafcba24-94b6-4952-e21a-40dad3b2f050"
      },
      "source": [
        "## cek ROC_AUC Score\n",
        "r_a_score = roc_auc_score(y_train_sm, y_scores_rf)\n",
        "print(\"ROC-AUC-Score:\", r_a_score)"
      ],
      "execution_count": null,
      "outputs": [
        {
          "output_type": "stream",
          "text": [
            "ROC-AUC-Score: 1.0\n"
          ],
          "name": "stdout"
        }
      ]
    },
    {
      "cell_type": "code",
      "metadata": {
        "colab": {
          "base_uri": "https://localhost:8080/",
          "height": 451
        },
        "id": "FgFi-ZxF2y3F",
        "outputId": "3e0d3ef5-3870-41c5-c010-3597db336235"
      },
      "source": [
        "## ROC AUC Curve\n",
        "from sklearn.metrics import roc_curve\n",
        "# menghitung rasio positif benar dan rasio positif salah\n",
        "false_positive_rate, true_positive_rate, thresholds = roc_curve(y_train_sm, y_scores_rf)\n",
        "# Membuat Plotting\n",
        "def plot_roc_curve(false_positive_rate, true_positive_rate, label=None):\n",
        "    plt.plot(false_positive_rate, true_positive_rate, linewidth=2, label=label)\n",
        "    plt.plot([0, 1], [0, 1], 'r', linewidth=4)\n",
        "    plt.axis([0, 1, 0, 1])\n",
        "    plt.xlabel('False Positive Rate (FPR)', fontsize=16)\n",
        "    plt.ylabel('True Positive Rate (TPR)', fontsize=16)\n",
        "\n",
        "plt.figure(figsize=(14, 7))\n",
        "plot_roc_curve(false_positive_rate, true_positive_rate)\n",
        "plt.show()"
      ],
      "execution_count": null,
      "outputs": [
        {
          "output_type": "display_data",
          "data": {
            "image/png": "[encoded data removed]",
            "text/plain": [
              "<Figure size 1008x504 with 1 Axes>"
            ]
          },
          "metadata": {
            "tags": [],
            "needs_background": "light"
          }
        }
      ]
    },
    {
      "cell_type": "markdown",
      "metadata": {
        "id": "I-eZTG4YUrml"
      },
      "source": [
        "## Menggunakan model Logistik Regression"
      ]
    },
    {
      "cell_type": "code",
      "metadata": {
        "colab": {
          "base_uri": "https://localhost:8080/"
        },
        "id": "q0kPveZIUyNL",
        "outputId": "cdc7969f-3c34-4a87-c1fe-8299673090c3"
      },
      "source": [
        "from sklearn.linear_model import LogisticRegression\n",
        "lr = LogisticRegression(C=0.001, solver='liblinear', random_state=100)\n",
        "lr.fit(X_train_sm, y_train_sm)"
      ],
      "execution_count": null,
      "outputs": [
        {
          "output_type": "execute_result",
          "data": {
            "text/plain": [
              "LogisticRegression(C=0.001, class_weight=None, dual=False, fit_intercept=True,\n",
              "                   intercept_scaling=1, l1_ratio=None, max_iter=100,\n",
              "                   multi_class='auto', n_jobs=None, penalty='l2',\n",
              "                   random_state=100, solver='liblinear', tol=0.0001, verbose=0,\n",
              "                   warm_start=False)"
            ]
          },
          "metadata": {
            "tags": []
          },
          "execution_count": 38
        }
      ]
    },
    {
      "cell_type": "code",
      "metadata": {
        "colab": {
          "base_uri": "https://localhost:8080/"
        },
        "id": "9rj5WF9_VZjP",
        "outputId": "92043bce-18e7-41f3-c029-48bd781e9d0e"
      },
      "source": [
        "## Accuracy Score Test\n",
        "y_test_sm_pred = lr.predict(X_test)\n",
        "accuracy_score(y_test, y_test_sm_pred)"
      ],
      "execution_count": null,
      "outputs": [
        {
          "output_type": "execute_result",
          "data": {
            "text/plain": [
              "0.6851627029722288"
            ]
          },
          "metadata": {
            "tags": []
          },
          "execution_count": 39
        }
      ]
    },
    {
      "cell_type": "code",
      "metadata": {
        "colab": {
          "base_uri": "https://localhost:8080/"
        },
        "id": "zbZP7evJyw6M",
        "outputId": "45012981-e9b5-43e6-94fd-b3a8c1838185"
      },
      "source": [
        "## Accuracy Score Train\n",
        "y_train_sm_pred = lr.predict(X_train)\n",
        "accuracy_score(y_train, y_train_sm_pred)"
      ],
      "execution_count": null,
      "outputs": [
        {
          "output_type": "execute_result",
          "data": {
            "text/plain": [
              "0.6871507082231937"
            ]
          },
          "metadata": {
            "tags": []
          },
          "execution_count": 40
        }
      ]
    },
    {
      "cell_type": "code",
      "metadata": {
        "colab": {
          "base_uri": "https://localhost:8080/"
        },
        "id": "Q5TsKiFSVlFQ",
        "outputId": "5b4a1df2-76c6-4cf4-97b1-0aaeaa0b4a6b"
      },
      "source": [
        "## Cross validasi Score\n",
        "print(cross_val_score(lr, X_train_sm, y_train_sm, cv=3))"
      ],
      "execution_count": null,
      "outputs": [
        {
          "output_type": "stream",
          "text": [
            "[0.68913778 0.69380579 0.69431351]\n"
          ],
          "name": "stdout"
        }
      ]
    },
    {
      "cell_type": "code",
      "metadata": {
        "colab": {
          "base_uri": "https://localhost:8080/"
        },
        "id": "INkWM9guVpHR",
        "outputId": "73211314-ab94-4217-93cf-338fdce38b38"
      },
      "source": [
        "## Cross validasi Predick\n",
        "predictions = cross_val_predict(lr, X_train_sm, y_train_sm, cv=3)\n",
        "confusion_matrix(y_train_sm, predictions)"
      ],
      "execution_count": null,
      "outputs": [
        {
          "output_type": "execute_result",
          "data": {
            "text/plain": [
              "array([[136397,  61546],\n",
              "       [ 60221, 137722]])"
            ]
          },
          "metadata": {
            "tags": []
          },
          "execution_count": 42
        }
      ]
    },
    {
      "cell_type": "code",
      "metadata": {
        "colab": {
          "base_uri": "https://localhost:8080/"
        },
        "id": "krrSYXNMVsdp",
        "outputId": "a46cc637-4c16-42fd-97d8-c420ece3395c"
      },
      "source": [
        "## Score Precision dan Recall\n",
        "print(\"Precision:\", precision_score(y_train_sm, predictions))\n",
        "print(\"Recall:\",recall_score(y_train_sm, predictions))"
      ],
      "execution_count": null,
      "outputs": [
        {
          "output_type": "stream",
          "text": [
            "Precision: 0.691139570829235\n",
            "Recall: 0.6957659528248031\n"
          ],
          "name": "stdout"
        }
      ]
    },
    {
      "cell_type": "code",
      "metadata": {
        "id": "uDE7vNAU09pj"
      },
      "source": [
        "## mendapatkan kemungkinan prediksi\n",
        "y_scores_lr = lr.predict_proba(X_train_sm)\n",
        "y_scores_lr = y_scores_lr[:,1]"
      ],
      "execution_count": null,
      "outputs": []
    },
    {
      "cell_type": "code",
      "metadata": {
        "colab": {
          "base_uri": "https://localhost:8080/"
        },
        "id": "2vLqy5SS1Osr",
        "outputId": "9af5aea1-88cb-43b5-8beb-e5cc32ebe697"
      },
      "source": [
        "## cek ROC_AUC Score\n",
        "r_a_score = roc_auc_score(y_train_sm, y_scores_lr)\n",
        "print(\"ROC-AUC-Score:\", r_a_score)"
      ],
      "execution_count": null,
      "outputs": [
        {
          "output_type": "stream",
          "text": [
            "ROC-AUC-Score: 0.7580977354357901\n"
          ],
          "name": "stdout"
        }
      ]
    },
    {
      "cell_type": "code",
      "metadata": {
        "colab": {
          "base_uri": "https://localhost:8080/",
          "height": 451
        },
        "id": "7aoIuaTg29ko",
        "outputId": "190dbe30-a9ef-4635-b1da-24f14e8d73ae"
      },
      "source": [
        "## ROC AUC Curve\n",
        "from sklearn.metrics import roc_curve\n",
        "# menghitung rasio positif benar dan rasio positif salah\n",
        "false_positive_rate, true_positive_rate, thresholds = roc_curve(y_train_sm, y_scores_lr)\n",
        "# Membuat Plotting\n",
        "def plot_roc_curve(false_positive_rate, true_positive_rate, label=None):\n",
        "    plt.plot(false_positive_rate, true_positive_rate, linewidth=2, label=label)\n",
        "    plt.plot([0, 1], [0, 1], 'r', linewidth=4)\n",
        "    plt.axis([0, 1, 0, 1])\n",
        "    plt.xlabel('False Positive Rate (FPR)', fontsize=16)\n",
        "    plt.ylabel('True Positive Rate (TPR)', fontsize=16)\n",
        "\n",
        "plt.figure(figsize=(14, 7))\n",
        "plot_roc_curve(false_positive_rate, true_positive_rate)\n",
        "plt.show()"
      ],
      "execution_count": null,
      "outputs": [
        {
          "output_type": "display_data",
          "data": {
            "image/png": "[encoded data removed]",
            "text/plain": [
              "<Figure size 1008x504 with 1 Axes>"
            ]
          },
          "metadata": {
            "tags": [],
            "needs_background": "light"
          }
        }
      ]
    },
    {
      "cell_type": "markdown",
      "metadata": {
        "id": "6ARR6aK_PJlB"
      },
      "source": [
        "## Prediksi dengan Model Desicion Tree"
      ]
    },
    {
      "cell_type": "code",
      "metadata": {
        "id": "U2vvc19a5YdJ"
      },
      "source": [
        "prediction_clf = clf.predict(X_test)"
      ],
      "execution_count": null,
      "outputs": []
    },
    {
      "cell_type": "code",
      "metadata": {
        "colab": {
          "base_uri": "https://localhost:8080/",
          "height": 331
        },
        "id": "0e8tsCnt5ejE",
        "outputId": "c5e3e51e-e8bf-4f78-9b5b-eb3220b36336"
      },
      "source": [
        "predik_clf = pd.DataFrame(data= prediction_clf, columns= ['Target'])\n",
        "predik_clf.head(10)"
      ],
      "execution_count": null,
      "outputs": [
        {
          "output_type": "execute_result",
          "data": {
            "text/html": [
              "<div>\n",
              "<style scoped>\n",
              "    .dataframe tbody tr th:only-of-type {\n",
              "        vertical-align: middle;\n",
              "    }\n",
              "\n",
              "    .dataframe tbody tr th {\n",
              "        vertical-align: top;\n",
              "    }\n",
              "\n",
              "    .dataframe thead th {\n",
              "        text-align: right;\n",
              "    }\n",
              "</style>\n",
              "<table border=\"1\" class=\"dataframe\">\n",
              "  <thead>\n",
              "    <tr style=\"text-align: right;\">\n",
              "      <th></th>\n",
              "      <th>Target</th>\n",
              "    </tr>\n",
              "  </thead>\n",
              "  <tbody>\n",
              "    <tr>\n",
              "      <th>0</th>\n",
              "      <td>0</td>\n",
              "    </tr>\n",
              "    <tr>\n",
              "      <th>1</th>\n",
              "      <td>0</td>\n",
              "    </tr>\n",
              "    <tr>\n",
              "      <th>2</th>\n",
              "      <td>0</td>\n",
              "    </tr>\n",
              "    <tr>\n",
              "      <th>3</th>\n",
              "      <td>0</td>\n",
              "    </tr>\n",
              "    <tr>\n",
              "      <th>4</th>\n",
              "      <td>0</td>\n",
              "    </tr>\n",
              "    <tr>\n",
              "      <th>5</th>\n",
              "      <td>1</td>\n",
              "    </tr>\n",
              "    <tr>\n",
              "      <th>6</th>\n",
              "      <td>0</td>\n",
              "    </tr>\n",
              "    <tr>\n",
              "      <th>7</th>\n",
              "      <td>1</td>\n",
              "    </tr>\n",
              "    <tr>\n",
              "      <th>8</th>\n",
              "      <td>0</td>\n",
              "    </tr>\n",
              "    <tr>\n",
              "      <th>9</th>\n",
              "      <td>0</td>\n",
              "    </tr>\n",
              "  </tbody>\n",
              "</table>\n",
              "</div>"
            ],
            "text/plain": [
              "   Target\n",
              "0       0\n",
              "1       0\n",
              "2       0\n",
              "3       0\n",
              "4       0\n",
              "5       1\n",
              "6       0\n",
              "7       1\n",
              "8       0\n",
              "9       0"
            ]
          },
          "metadata": {
            "tags": []
          },
          "execution_count": 48
        }
      ]
    },
    {
      "cell_type": "markdown",
      "metadata": {
        "id": "oyk3LbWkPWKl"
      },
      "source": [
        "## Prediksi dengan model Random Forest"
      ]
    },
    {
      "cell_type": "code",
      "metadata": {
        "id": "IALohOKJ5jDr"
      },
      "source": [
        "prediction_rf = rf.predict(X_test)"
      ],
      "execution_count": null,
      "outputs": []
    },
    {
      "cell_type": "code",
      "metadata": {
        "colab": {
          "base_uri": "https://localhost:8080/",
          "height": 331
        },
        "id": "EnA5gC2vPepg",
        "outputId": "dfe0b2eb-e123-4c16-bfd3-0a66153de09a"
      },
      "source": [
        "predik_rf = pd.DataFrame(data= prediction_rf, columns= ['Target'])\n",
        "predik_rf.head(10)"
      ],
      "execution_count": null,
      "outputs": [
        {
          "output_type": "execute_result",
          "data": {
            "text/html": [
              "<div>\n",
              "<style scoped>\n",
              "    .dataframe tbody tr th:only-of-type {\n",
              "        vertical-align: middle;\n",
              "    }\n",
              "\n",
              "    .dataframe tbody tr th {\n",
              "        vertical-align: top;\n",
              "    }\n",
              "\n",
              "    .dataframe thead th {\n",
              "        text-align: right;\n",
              "    }\n",
              "</style>\n",
              "<table border=\"1\" class=\"dataframe\">\n",
              "  <thead>\n",
              "    <tr style=\"text-align: right;\">\n",
              "      <th></th>\n",
              "      <th>Target</th>\n",
              "    </tr>\n",
              "  </thead>\n",
              "  <tbody>\n",
              "    <tr>\n",
              "      <th>0</th>\n",
              "      <td>0</td>\n",
              "    </tr>\n",
              "    <tr>\n",
              "      <th>1</th>\n",
              "      <td>0</td>\n",
              "    </tr>\n",
              "    <tr>\n",
              "      <th>2</th>\n",
              "      <td>0</td>\n",
              "    </tr>\n",
              "    <tr>\n",
              "      <th>3</th>\n",
              "      <td>0</td>\n",
              "    </tr>\n",
              "    <tr>\n",
              "      <th>4</th>\n",
              "      <td>0</td>\n",
              "    </tr>\n",
              "    <tr>\n",
              "      <th>5</th>\n",
              "      <td>0</td>\n",
              "    </tr>\n",
              "    <tr>\n",
              "      <th>6</th>\n",
              "      <td>0</td>\n",
              "    </tr>\n",
              "    <tr>\n",
              "      <th>7</th>\n",
              "      <td>0</td>\n",
              "    </tr>\n",
              "    <tr>\n",
              "      <th>8</th>\n",
              "      <td>0</td>\n",
              "    </tr>\n",
              "    <tr>\n",
              "      <th>9</th>\n",
              "      <td>0</td>\n",
              "    </tr>\n",
              "  </tbody>\n",
              "</table>\n",
              "</div>"
            ],
            "text/plain": [
              "   Target\n",
              "0       0\n",
              "1       0\n",
              "2       0\n",
              "3       0\n",
              "4       0\n",
              "5       0\n",
              "6       0\n",
              "7       0\n",
              "8       0\n",
              "9       0"
            ]
          },
          "metadata": {
            "tags": []
          },
          "execution_count": 50
        }
      ]
    },
    {
      "cell_type": "markdown",
      "metadata": {
        "id": "vfRYXpHWVx7D"
      },
      "source": [
        "## Prediksi dengan Model Logistik Regression"
      ]
    },
    {
      "cell_type": "code",
      "metadata": {
        "id": "i8tRBJ9iV-k7"
      },
      "source": [
        "prediction_lr = lr.predict(X_test)"
      ],
      "execution_count": null,
      "outputs": []
    },
    {
      "cell_type": "code",
      "metadata": {
        "colab": {
          "base_uri": "https://localhost:8080/",
          "height": 331
        },
        "id": "kgBrqxc-WBjS",
        "outputId": "abe0abb1-5e1f-4846-c45d-7a3b9e1ba1b8"
      },
      "source": [
        "predik_lr = pd.DataFrame(data= prediction_lr, columns= ['Target'])\n",
        "predik_lr.head(10)"
      ],
      "execution_count": null,
      "outputs": [
        {
          "output_type": "execute_result",
          "data": {
            "text/html": [
              "<div>\n",
              "<style scoped>\n",
              "    .dataframe tbody tr th:only-of-type {\n",
              "        vertical-align: middle;\n",
              "    }\n",
              "\n",
              "    .dataframe tbody tr th {\n",
              "        vertical-align: top;\n",
              "    }\n",
              "\n",
              "    .dataframe thead th {\n",
              "        text-align: right;\n",
              "    }\n",
              "</style>\n",
              "<table border=\"1\" class=\"dataframe\">\n",
              "  <thead>\n",
              "    <tr style=\"text-align: right;\">\n",
              "      <th></th>\n",
              "      <th>Target</th>\n",
              "    </tr>\n",
              "  </thead>\n",
              "  <tbody>\n",
              "    <tr>\n",
              "      <th>0</th>\n",
              "      <td>0</td>\n",
              "    </tr>\n",
              "    <tr>\n",
              "      <th>1</th>\n",
              "      <td>0</td>\n",
              "    </tr>\n",
              "    <tr>\n",
              "      <th>2</th>\n",
              "      <td>0</td>\n",
              "    </tr>\n",
              "    <tr>\n",
              "      <th>3</th>\n",
              "      <td>0</td>\n",
              "    </tr>\n",
              "    <tr>\n",
              "      <th>4</th>\n",
              "      <td>0</td>\n",
              "    </tr>\n",
              "    <tr>\n",
              "      <th>5</th>\n",
              "      <td>0</td>\n",
              "    </tr>\n",
              "    <tr>\n",
              "      <th>6</th>\n",
              "      <td>0</td>\n",
              "    </tr>\n",
              "    <tr>\n",
              "      <th>7</th>\n",
              "      <td>1</td>\n",
              "    </tr>\n",
              "    <tr>\n",
              "      <th>8</th>\n",
              "      <td>1</td>\n",
              "    </tr>\n",
              "    <tr>\n",
              "      <th>9</th>\n",
              "      <td>1</td>\n",
              "    </tr>\n",
              "  </tbody>\n",
              "</table>\n",
              "</div>"
            ],
            "text/plain": [
              "   Target\n",
              "0       0\n",
              "1       0\n",
              "2       0\n",
              "3       0\n",
              "4       0\n",
              "5       0\n",
              "6       0\n",
              "7       1\n",
              "8       1\n",
              "9       1"
            ]
          },
          "metadata": {
            "tags": []
          },
          "execution_count": 52
        }
      ]
    }
  ]
}